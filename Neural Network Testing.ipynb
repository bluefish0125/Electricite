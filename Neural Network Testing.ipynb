{
 "cells": [
  {
   "cell_type": "code",
   "execution_count": 1,
   "id": "bc909aa8",
   "metadata": {},
   "outputs": [],
   "source": [
    "import pandas as pd\n",
    "import numpy as np\n",
    "import sklearn\n",
    "from sklearn import model_selection\n",
    "import matplotlib.pyplot as plt\n",
    "import torch\n",
    "import scipy.stats as stats\n",
    "import torch.nn as nn"
   ]
  },
  {
   "cell_type": "code",
   "execution_count": 2,
   "id": "6dbd36dd",
   "metadata": {},
   "outputs": [],
   "source": [
    "# Lets grab our data from the pca transformation\n",
    "X_numpy = np.load('pca_transformed_data_v1.npy', allow_pickle=True)\n",
    "y_numpy = np.load('label.npy', allow_pickle=True)"
   ]
  },
  {
   "cell_type": "code",
   "execution_count": 3,
   "id": "22d99f11",
   "metadata": {},
   "outputs": [],
   "source": [
    "X = torch.from_numpy(X_numpy.astype(np.float32)).squeeze()\n",
    "y = torch.from_numpy(y_numpy.astype(np.float32))"
   ]
  },
  {
   "cell_type": "code",
   "execution_count": 4,
   "id": "ee1fe088",
   "metadata": {},
   "outputs": [],
   "source": [
    "#lets split our data\n",
    "X_train, X_test, y_train, y_test = sklearn.model_selection.train_test_split(X, y, test_size=0.2,\n",
    "                                                                           random_state=50)"
   ]
  },
  {
   "cell_type": "code",
   "execution_count": 5,
   "id": "a64252ff",
   "metadata": {},
   "outputs": [],
   "source": [
    "#send the data into gpu\n",
    "device = 'mps' if torch.backends.mps.is_available() else 'cpu'\n",
    "X_train,X_test, y_train,y_test = X_train.to(device), X_test.to(device), y_train.to(device), y_test.to(device)"
   ]
  },
  {
   "cell_type": "code",
   "execution_count": 8,
   "id": "06663ff7",
   "metadata": {},
   "outputs": [],
   "source": [
    "# lets create a model for hyperparameter tuning\n",
    "class NeuralNetwork(nn.Module):\n",
    "    def __init__(self):\n",
    "        super(NeuralNetwork, self).__init__()\n",
    "        self.layers = nn.ModuleList()\n",
    "        self.layers.append(nn.Linear(18, 28))\n",
    "        self.layers.append(nn.ReLU())\n",
    "        self.layers.append(nn.Linear(28, 1))\n",
    "        \n",
    "        #add forward function\n",
    "    def forward(self, x):\n",
    "        for layer in self.layers:\n",
    "            x = layer(x)\n",
    "        return x"
   ]
  },
  {
   "cell_type": "code",
   "execution_count": 9,
   "id": "8b0895ce",
   "metadata": {
    "scrolled": true
   },
   "outputs": [
    {
     "data": {
      "text/plain": [
       "<All keys matched successfully>"
      ]
     },
     "execution_count": 9,
     "metadata": {},
     "output_type": "execute_result"
    }
   ],
   "source": [
    "from pathlib import Path\n",
    "loaded_model_1 = NeuralNetwork()\n",
    "MODEL_PATH = Path('models')\n",
    "MODEL_NAME = \"Neural_2.pth\"\n",
    "MODEL_SAVE_PATH = MODEL_PATH / MODEL_NAME\n",
    "loaded_model_1.load_state_dict(torch.load(f=MODEL_SAVE_PATH))"
   ]
  },
  {
   "cell_type": "code",
   "execution_count": 10,
   "id": "e1215fec",
   "metadata": {},
   "outputs": [
    {
     "data": {
      "text/plain": [
       "NeuralNetwork(\n",
       "  (layers): ModuleList(\n",
       "    (0): Linear(in_features=18, out_features=28, bias=True)\n",
       "    (1): ReLU()\n",
       "    (2): Linear(in_features=28, out_features=1, bias=True)\n",
       "  )\n",
       ")"
      ]
     },
     "execution_count": 10,
     "metadata": {},
     "output_type": "execute_result"
    }
   ],
   "source": [
    "loaded_model_1.to(device)"
   ]
  },
  {
   "cell_type": "code",
   "execution_count": 13,
   "id": "53b34cbd",
   "metadata": {
    "scrolled": true
   },
   "outputs": [
    {
     "name": "stdout",
     "output_type": "stream",
     "text": [
      "The spearman correlation coefficient for neural network model is: 0.3540954043688203\n"
     ]
    }
   ],
   "source": [
    "# Score\n",
    "with torch.inference_mode():\n",
    "    test_pred = loaded_model_1(X_test).to('cpu')\n",
    "    score = stats.spearmanr(y_test.to('cpu'), test_pred)\n",
    "print(f'The spearman correlation coefficient for neural network model is: {score.statistic}')"
   ]
  }
 ],
 "metadata": {
  "kernelspec": {
   "display_name": "Python 3 (ipykernel)",
   "language": "python",
   "name": "python3"
  },
  "language_info": {
   "codemirror_mode": {
    "name": "ipython",
    "version": 3
   },
   "file_extension": ".py",
   "mimetype": "text/x-python",
   "name": "python",
   "nbconvert_exporter": "python",
   "pygments_lexer": "ipython3",
   "version": "3.10.12"
  }
 },
 "nbformat": 4,
 "nbformat_minor": 5
}
