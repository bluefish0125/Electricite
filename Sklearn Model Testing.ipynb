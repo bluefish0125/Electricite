{
 "cells": [
  {
   "cell_type": "code",
   "execution_count": 16,
   "id": "56ecc475",
   "metadata": {},
   "outputs": [],
   "source": [
    "import numpy as np\n",
    "import sklearn\n",
    "import scipy.stats as stats\n",
    "from sklearn import model_selection\n",
    "from sklearn.linear_model import Lasso\n",
    "from sklearn.ensemble import RandomForestRegressor\n",
    "from sklearn.metrics import mean_squared_error\n",
    "from sklearn.model_selection import KFold, cross_val_score"
   ]
  },
  {
   "cell_type": "code",
   "execution_count": 12,
   "id": "89e083f0",
   "metadata": {},
   "outputs": [],
   "source": [
    "X = np.load('lasso.npy', allow_pickle=True)\n",
    "y = np.load('label.npy', allow_pickle=True)"
   ]
  },
  {
   "cell_type": "code",
   "execution_count": 13,
   "id": "2be1d998",
   "metadata": {},
   "outputs": [],
   "source": [
    "X_train, X_test, y_train, y_test = sklearn.model_selection.train_test_split(X, y, test_size=0.2,\n",
    "                                                                           random_state=42)"
   ]
  },
  {
   "cell_type": "code",
   "execution_count": 23,
   "id": "9036f63f",
   "metadata": {},
   "outputs": [
    {
     "name": "stderr",
     "output_type": "stream",
     "text": [
      "/Users/benjamincheng/miniforge3/lib/python3.10/site-packages/sklearn/base.py:1151: DataConversionWarning: A column-vector y was passed when a 1d array was expected. Please change the shape of y to (n_samples,), for example using ravel().\n",
      "  return fit_method(estimator, *args, **kwargs)\n"
     ]
    },
    {
     "name": "stdout",
     "output_type": "stream",
     "text": [
      "The spearman correlation coefficient is: 0.22188024119918304\n"
     ]
    }
   ],
   "source": [
    "# Random Forest\n",
    "model=RandomForestRegressor(n_estimators=364,\n",
    "                           min_samples_split=0.13216427917075566,\n",
    "                           min_samples_leaf=0.1002395644210297,\n",
    "                           random_state=42)\n",
    "model.fit(X_train, y_train)\n",
    "pred = model.predict(X_test)\n",
    "score = stats.spearmanr(y_test, pred)\n",
    "print(f\"The spearman correlation coefficient is: {score.statistic}\")"
   ]
  },
  {
   "cell_type": "code",
   "execution_count": 26,
   "id": "348b0fb6",
   "metadata": {},
   "outputs": [
    {
     "name": "stdout",
     "output_type": "stream",
     "text": [
      "The spearman correlation coefficient is: 0.2231839191512282\n"
     ]
    }
   ],
   "source": [
    "# Linear Regression\n",
    "model = sklearn.linear_model.LinearRegression()\n",
    "model.fit(X_train, y_train)\n",
    "pred = model.predict(X_test)\n",
    "score = stats.spearmanr(y_test,pred)\n",
    "print(f\"The spearman correlation coefficient is: {score.statistic}\")"
   ]
  }
 ],
 "metadata": {
  "kernelspec": {
   "display_name": "Python 3 (ipykernel)",
   "language": "python",
   "name": "python3"
  },
  "language_info": {
   "codemirror_mode": {
    "name": "ipython",
    "version": 3
   },
   "file_extension": ".py",
   "mimetype": "text/x-python",
   "name": "python",
   "nbconvert_exporter": "python",
   "pygments_lexer": "ipython3",
   "version": "3.10.12"
  }
 },
 "nbformat": 4,
 "nbformat_minor": 5
}
