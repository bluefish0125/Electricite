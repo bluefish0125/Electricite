{
 "cells": [
  {
   "cell_type": "code",
   "execution_count": 1,
   "id": "9edafaa1",
   "metadata": {},
   "outputs": [],
   "source": [
    "import pandas as pd\n",
    "import numpy as np\n",
    "import sklearn\n",
    "from sklearn import model_selection\n",
    "import matplotlib.pyplot as plt\n",
    "import torch\n",
    "import scipy.stats as stats\n",
    "import torch.nn as nn"
   ]
  },
  {
   "cell_type": "code",
   "execution_count": 3,
   "id": "de5d0536",
   "metadata": {},
   "outputs": [],
   "source": [
    "X_numpy = np.load('lasso.npy', allow_pickle=True)\n",
    "y_numpy = np.load('label.npy', allow_pickle=True)"
   ]
  },
  {
   "cell_type": "code",
   "execution_count": 4,
   "id": "d7274e2a",
   "metadata": {},
   "outputs": [],
   "source": [
    "X = torch.from_numpy(X_numpy.astype(np.float32)).squeeze()\n",
    "y = torch.from_numpy(y_numpy.astype(np.float32))"
   ]
  },
  {
   "cell_type": "code",
   "execution_count": 5,
   "id": "f09542fc",
   "metadata": {},
   "outputs": [],
   "source": [
    "#lets split our data\n",
    "X_train, X_test, y_train, y_test = sklearn.model_selection.train_test_split(X, y, test_size=0.2,\n",
    "                                                                           random_state= 51)"
   ]
  },
  {
   "cell_type": "code",
   "execution_count": 6,
   "id": "64844b32",
   "metadata": {},
   "outputs": [],
   "source": [
    "#send the data into gpu\n",
    "device = 'mps' if torch.backends.mps.is_available() else 'cpu'\n",
    "X_train,X_test, y_train,y_test = X_train.to(device), X_test.to(device), y_train.to(device), y_test.to(device)"
   ]
  },
  {
   "cell_type": "code",
   "execution_count": 8,
   "id": "28ccd8b7",
   "metadata": {},
   "outputs": [],
   "source": [
    "# lets create a model for hyperparameter tuning\n",
    "class NeuralNetworkWithHyper(nn.Module):\n",
    "    def __init__(self,hidden_layers, num_hidden_units, input_size=10):\n",
    "        super().__init__()\n",
    "        self.input_size = input_size\n",
    "        self.hidden_layers = hidden_layers\n",
    "        self.num_hidden_units = num_hidden_units\n",
    "        \n",
    "        # Create a list to hold the layers\n",
    "        self.layers = nn.ModuleList()\n",
    "        \n",
    "        #add the input layer\n",
    "        self.layers.append(nn.Linear(input_size, num_hidden_units))\n",
    "        self.layers.append(nn.ReLU())\n",
    "       \n",
    "        #add hidden layers\n",
    "        for i in range(hidden_layers - 1):\n",
    "            self.layers.append(nn.Linear(num_hidden_units, num_hidden_units))\n",
    "            self.layers.append(nn.ReLU())\n",
    "        #add the output layer\n",
    "        self.layers.append(nn.Linear(num_hidden_units, 1))\n",
    "        \n",
    "        #add forward function\n",
    "    def forward(self, x):\n",
    "        for layer in self.layers:\n",
    "            x = layer(x)\n",
    "        return x"
   ]
  },
  {
   "cell_type": "code",
   "execution_count": 23,
   "id": "7781ef23",
   "metadata": {
    "scrolled": true
   },
   "outputs": [
    {
     "name": "stderr",
     "output_type": "stream",
     "text": [
      "[I 2023-11-12 11:35:41,966] A new study created in memory with name: no-name-04a3edce-d948-4b3e-a015-d979941e81b3\n",
      "[I 2023-11-12 11:36:03,369] Trial 0 finished with value: 0.25709750927400976 and parameters: {'learning_rate': 0.0007292879066943576, 'hidden_layers': 1, 'num_hidden_units': 44, 'epoch_count': 9369}. Best is trial 0 with value: 0.25709750927400976.\n",
      "[I 2023-11-12 11:36:22,771] Trial 1 finished with value: 0.19666295854465735 and parameters: {'learning_rate': 0.0005634383458498917, 'hidden_layers': 1, 'num_hidden_units': 36, 'epoch_count': 9419}. Best is trial 0 with value: 0.25709750927400976.\n",
      "[I 2023-11-12 11:36:45,422] Trial 2 finished with value: 0.20743828848238066 and parameters: {'learning_rate': 0.0003999609517790664, 'hidden_layers': 1, 'num_hidden_units': 29, 'epoch_count': 10604}. Best is trial 0 with value: 0.25709750927400976.\n",
      "[I 2023-11-12 11:37:08,011] Trial 3 finished with value: 0.2334945873087682 and parameters: {'learning_rate': 0.0005301546720119393, 'hidden_layers': 1, 'num_hidden_units': 22, 'epoch_count': 10503}. Best is trial 0 with value: 0.25709750927400976.\n",
      "[I 2023-11-12 11:37:30,480] Trial 4 finished with value: 0.24921527854610445 and parameters: {'learning_rate': 0.0007310120912367419, 'hidden_layers': 1, 'num_hidden_units': 32, 'epoch_count': 10797}. Best is trial 0 with value: 0.25709750927400976.\n",
      "[I 2023-11-12 11:37:52,312] Trial 5 finished with value: 0.1856155798644172 and parameters: {'learning_rate': 0.00014163258642211352, 'hidden_layers': 1, 'num_hidden_units': 23, 'epoch_count': 10542}. Best is trial 0 with value: 0.25709750927400976.\n",
      "[I 2023-11-12 11:38:14,958] Trial 6 finished with value: 0.2220918842395808 and parameters: {'learning_rate': 0.0004201449026669468, 'hidden_layers': 1, 'num_hidden_units': 25, 'epoch_count': 10943}. Best is trial 0 with value: 0.25709750927400976.\n",
      "[I 2023-11-12 11:38:34,554] Trial 7 finished with value: 0.25934886974219773 and parameters: {'learning_rate': 0.0006736983934227379, 'hidden_layers': 1, 'num_hidden_units': 42, 'epoch_count': 9707}. Best is trial 7 with value: 0.25934886974219773.\n",
      "[I 2023-11-12 11:38:54,688] Trial 8 finished with value: 0.22198997819246638 and parameters: {'learning_rate': 0.0009045418560471314, 'hidden_layers': 1, 'num_hidden_units': 39, 'epoch_count': 9786}. Best is trial 7 with value: 0.25934886974219773.\n",
      "[I 2023-11-12 11:39:15,363] Trial 9 finished with value: 0.14887867434233779 and parameters: {'learning_rate': 0.0009664477958353704, 'hidden_layers': 1, 'num_hidden_units': 29, 'epoch_count': 10011}. Best is trial 7 with value: 0.25934886974219773.\n",
      "[I 2023-11-12 11:39:35,284] Trial 10 finished with value: 0.27271719231486696 and parameters: {'learning_rate': 0.0007651773347572749, 'hidden_layers': 1, 'num_hidden_units': 45, 'epoch_count': 9929}. Best is trial 10 with value: 0.27271719231486696.\n",
      "[I 2023-11-12 11:39:55,226] Trial 11 finished with value: 0.26420579275422684 and parameters: {'learning_rate': 0.0007911393563140687, 'hidden_layers': 1, 'num_hidden_units': 46, 'epoch_count': 9928}. Best is trial 10 with value: 0.27271719231486696.\n",
      "[I 2023-11-12 11:40:15,616] Trial 12 finished with value: 0.25823284140243397 and parameters: {'learning_rate': 0.0008462442453461712, 'hidden_layers': 1, 'num_hidden_units': 46, 'epoch_count': 10113}. Best is trial 10 with value: 0.27271719231486696.\n",
      "[I 2023-11-12 11:40:35,682] Trial 13 finished with value: 0.23868012365334237 and parameters: {'learning_rate': 0.0008041251595335017, 'hidden_layers': 1, 'num_hidden_units': 17, 'epoch_count': 10205}. Best is trial 10 with value: 0.27271719231486696.\n",
      "[I 2023-11-12 11:40:55,265] Trial 14 finished with value: 0.23022573760804818 and parameters: {'learning_rate': 0.0009880458643192023, 'hidden_layers': 1, 'num_hidden_units': 38, 'epoch_count': 9709}. Best is trial 10 with value: 0.27271719231486696.\n",
      "[I 2023-11-12 11:41:13,553] Trial 15 finished with value: 0.2682903397571797 and parameters: {'learning_rate': 0.0008423117367272374, 'hidden_layers': 1, 'num_hidden_units': 41, 'epoch_count': 9032}. Best is trial 10 with value: 0.27271719231486696.\n",
      "[I 2023-11-12 11:41:33,727] Trial 16 finished with value: 0.2309498541454734 and parameters: {'learning_rate': 0.000877758107918881, 'hidden_layers': 1, 'num_hidden_units': 41, 'epoch_count': 9023}. Best is trial 10 with value: 0.27271719231486696.\n",
      "[I 2023-11-12 11:41:52,057] Trial 17 finished with value: 0.2625930285504451 and parameters: {'learning_rate': 0.0009864906556397188, 'hidden_layers': 1, 'num_hidden_units': 34, 'epoch_count': 9002}. Best is trial 10 with value: 0.27271719231486696.\n",
      "[I 2023-11-12 11:42:10,774] Trial 18 finished with value: 0.24717334173861633 and parameters: {'learning_rate': 0.0006473220763637082, 'hidden_layers': 1, 'num_hidden_units': 41, 'epoch_count': 9319}. Best is trial 10 with value: 0.27271719231486696.\n",
      "[I 2023-11-12 11:42:32,285] Trial 19 finished with value: 0.23613045231155302 and parameters: {'learning_rate': 0.0008812413240321448, 'hidden_layers': 1, 'num_hidden_units': 37, 'epoch_count': 10274}. Best is trial 10 with value: 0.27271719231486696.\n",
      "[I 2023-11-12 11:42:51,578] Trial 20 finished with value: 0.23076961063042306 and parameters: {'learning_rate': 0.0007672762342707174, 'hidden_layers': 1, 'num_hidden_units': 44, 'epoch_count': 9537}. Best is trial 10 with value: 0.27271719231486696.\n",
      "[I 2023-11-12 11:43:11,594] Trial 21 finished with value: 0.27957317976654533 and parameters: {'learning_rate': 0.0007484355050989012, 'hidden_layers': 1, 'num_hidden_units': 46, 'epoch_count': 9899}. Best is trial 21 with value: 0.27957317976654533.\n",
      "[I 2023-11-12 11:43:32,856] Trial 22 finished with value: 0.24262393256920115 and parameters: {'learning_rate': 0.0008061409347068324, 'hidden_layers': 1, 'num_hidden_units': 43, 'epoch_count': 10298}. Best is trial 21 with value: 0.27957317976654533.\n",
      "[I 2023-11-12 11:43:53,160] Trial 23 finished with value: 0.26914240001014494 and parameters: {'learning_rate': 0.0006701140162960564, 'hidden_layers': 1, 'num_hidden_units': 46, 'epoch_count': 9880}. Best is trial 21 with value: 0.27957317976654533.\n",
      "[I 2023-11-12 11:44:13,850] Trial 24 finished with value: 0.2292661597414975 and parameters: {'learning_rate': 0.0006746111568303643, 'hidden_layers': 1, 'num_hidden_units': 46, 'epoch_count': 10022}. Best is trial 21 with value: 0.27957317976654533.\n",
      "[I 2023-11-12 11:44:33,835] Trial 25 finished with value: 0.26651147318585466 and parameters: {'learning_rate': 0.0006082851759321795, 'hidden_layers': 1, 'num_hidden_units': 39, 'epoch_count': 9832}. Best is trial 21 with value: 0.27957317976654533.\n",
      "[I 2023-11-12 11:44:52,981] Trial 26 finished with value: 0.2698757195165826 and parameters: {'learning_rate': 0.0007413946261667264, 'hidden_layers': 1, 'num_hidden_units': 44, 'epoch_count': 9532}. Best is trial 21 with value: 0.27957317976654533.\n",
      "[I 2023-11-12 11:45:11,987] Trial 27 finished with value: 0.264880078581389 and parameters: {'learning_rate': 0.0007308368050831144, 'hidden_layers': 1, 'num_hidden_units': 35, 'epoch_count': 9502}. Best is trial 21 with value: 0.27957317976654533.\n",
      "[I 2023-11-12 11:45:31,830] Trial 28 finished with value: 0.2179914003878501 and parameters: {'learning_rate': 0.000920484956370692, 'hidden_layers': 1, 'num_hidden_units': 44, 'epoch_count': 9637}. Best is trial 21 with value: 0.27957317976654533.\n",
      "[I 2023-11-12 11:45:50,676] Trial 29 finished with value: 0.23538972553737353 and parameters: {'learning_rate': 0.0007362401919921984, 'hidden_layers': 1, 'num_hidden_units': 43, 'epoch_count': 9283}. Best is trial 21 with value: 0.27957317976654533.\n",
      "[I 2023-11-12 11:46:10,433] Trial 30 finished with value: 0.2995092797369395 and parameters: {'learning_rate': 0.0008092290415163918, 'hidden_layers': 1, 'num_hidden_units': 33, 'epoch_count': 9599}. Best is trial 30 with value: 0.2995092797369395.\n",
      "[I 2023-11-12 11:46:30,442] Trial 31 finished with value: 0.29184006407227553 and parameters: {'learning_rate': 0.0008218917529888491, 'hidden_layers': 1, 'num_hidden_units': 33, 'epoch_count': 9584}. Best is trial 30 with value: 0.2995092797369395.\n",
      "[I 2023-11-12 11:46:49,858] Trial 32 finished with value: 0.25902609243878255 and parameters: {'learning_rate': 0.000832685786631577, 'hidden_layers': 1, 'num_hidden_units': 32, 'epoch_count': 9159}. Best is trial 30 with value: 0.2995092797369395.\n"
     ]
    },
    {
     "name": "stderr",
     "output_type": "stream",
     "text": [
      "[I 2023-11-12 11:47:10,198] Trial 33 finished with value: 0.2808036840623187 and parameters: {'learning_rate': 0.0009333745179179499, 'hidden_layers': 1, 'num_hidden_units': 29, 'epoch_count': 9648}. Best is trial 30 with value: 0.2995092797369395.\n",
      "[I 2023-11-12 11:47:29,299] Trial 34 finished with value: 0.2559538720272084 and parameters: {'learning_rate': 0.0009230749062175324, 'hidden_layers': 1, 'num_hidden_units': 29, 'epoch_count': 9452}. Best is trial 30 with value: 0.2995092797369395.\n",
      "[I 2023-11-12 11:47:48,758] Trial 35 finished with value: 0.2099767366912279 and parameters: {'learning_rate': 0.0009263313787389543, 'hidden_layers': 1, 'num_hidden_units': 27, 'epoch_count': 9636}. Best is trial 30 with value: 0.2995092797369395.\n",
      "[I 2023-11-12 11:48:08,111] Trial 36 finished with value: 0.22269232185198382 and parameters: {'learning_rate': 0.0008448006198031441, 'hidden_layers': 1, 'num_hidden_units': 33, 'epoch_count': 9389}. Best is trial 30 with value: 0.2995092797369395.\n",
      "[I 2023-11-12 11:48:27,642] Trial 37 finished with value: 0.15267927608185514 and parameters: {'learning_rate': 0.0009474013444678932, 'hidden_layers': 1, 'num_hidden_units': 21, 'epoch_count': 9635}. Best is trial 30 with value: 0.2995092797369395.\n",
      "[I 2023-11-12 11:48:47,666] Trial 38 finished with value: 0.2771801833606279 and parameters: {'learning_rate': 0.0008962637783063391, 'hidden_layers': 1, 'num_hidden_units': 30, 'epoch_count': 9764}. Best is trial 30 with value: 0.2995092797369395.\n",
      "[I 2023-11-12 11:49:06,289] Trial 39 finished with value: 0.24667570802396302 and parameters: {'learning_rate': 0.000862532208049266, 'hidden_layers': 1, 'num_hidden_units': 27, 'epoch_count': 9214}. Best is trial 30 with value: 0.2995092797369395.\n",
      "[I 2023-11-12 11:49:27,389] Trial 40 finished with value: 0.2763730156394311 and parameters: {'learning_rate': 0.000990216127335827, 'hidden_layers': 1, 'num_hidden_units': 27, 'epoch_count': 10112}. Best is trial 30 with value: 0.2995092797369395.\n",
      "[I 2023-11-12 11:49:46,926] Trial 41 finished with value: 0.27868857242804795 and parameters: {'learning_rate': 0.0008009253010986819, 'hidden_layers': 1, 'num_hidden_units': 31, 'epoch_count': 9761}. Best is trial 30 with value: 0.2995092797369395.\n",
      "[I 2023-11-12 11:50:06,338] Trial 42 finished with value: 0.27517191595196605 and parameters: {'learning_rate': 0.000778902639634625, 'hidden_layers': 1, 'num_hidden_units': 31, 'epoch_count': 9744}. Best is trial 30 with value: 0.2995092797369395.\n",
      "[I 2023-11-12 11:50:25,542] Trial 43 finished with value: 0.2364370683035316 and parameters: {'learning_rate': 0.0007108891705417631, 'hidden_layers': 1, 'num_hidden_units': 24, 'epoch_count': 9562}. Best is trial 30 with value: 0.2995092797369395.\n",
      "[I 2023-11-12 11:50:45,362] Trial 44 finished with value: 0.28248446045172965 and parameters: {'learning_rate': 0.0008930765928358213, 'hidden_layers': 1, 'num_hidden_units': 34, 'epoch_count': 9846}. Best is trial 30 with value: 0.2995092797369395.\n",
      "[I 2023-11-12 11:51:06,131] Trial 45 finished with value: 0.273717622385327 and parameters: {'learning_rate': 0.0009423809595137753, 'hidden_layers': 1, 'num_hidden_units': 35, 'epoch_count': 9966}. Best is trial 30 with value: 0.2995092797369395.\n",
      "[I 2023-11-12 11:51:25,815] Trial 46 finished with value: 0.21038885013286232 and parameters: {'learning_rate': 0.0008919137324100188, 'hidden_layers': 1, 'num_hidden_units': 36, 'epoch_count': 9845}. Best is trial 30 with value: 0.2995092797369395.\n",
      "[I 2023-11-12 11:51:46,744] Trial 47 finished with value: 0.26944407782362895 and parameters: {'learning_rate': 0.0008464087601405885, 'hidden_layers': 1, 'num_hidden_units': 33, 'epoch_count': 10391}. Best is trial 30 with value: 0.2995092797369395.\n",
      "[I 2023-11-12 11:52:07,190] Trial 48 finished with value: 0.22441103243073912 and parameters: {'learning_rate': 0.0008230737078667789, 'hidden_layers': 1, 'num_hidden_units': 26, 'epoch_count': 10049}. Best is trial 30 with value: 0.2995092797369395.\n",
      "[I 2023-11-12 11:52:27,263] Trial 49 finished with value: 0.20239483700085362 and parameters: {'learning_rate': 0.0009452477589206367, 'hidden_layers': 1, 'num_hidden_units': 21, 'epoch_count': 9648}. Best is trial 30 with value: 0.2995092797369395.\n",
      "[I 2023-11-12 11:52:49,793] Trial 50 finished with value: 0.24072789648996046 and parameters: {'learning_rate': 0.0007749179443634356, 'hidden_layers': 1, 'num_hidden_units': 29, 'epoch_count': 10718}. Best is trial 30 with value: 0.2995092797369395.\n",
      "[I 2023-11-12 11:53:10,542] Trial 51 finished with value: 0.10623952320600079 and parameters: {'learning_rate': 0.0008002287050016591, 'hidden_layers': 1, 'num_hidden_units': 31, 'epoch_count': 9906}. Best is trial 30 with value: 0.2995092797369395.\n",
      "[I 2023-11-12 11:53:30,296] Trial 52 finished with value: 0.27030219856838295 and parameters: {'learning_rate': 0.0008777469009300765, 'hidden_layers': 1, 'num_hidden_units': 33, 'epoch_count': 9764}. Best is trial 30 with value: 0.2995092797369395.\n",
      "[I 2023-11-12 11:53:50,388] Trial 53 finished with value: 0.281827907174616 and parameters: {'learning_rate': 0.0008137651035679571, 'hidden_layers': 1, 'num_hidden_units': 31, 'epoch_count': 9683}. Best is trial 30 with value: 0.2995092797369395.\n",
      "[I 2023-11-12 11:54:09,885] Trial 54 finished with value: 0.2822202679022723 and parameters: {'learning_rate': 0.000858688950559827, 'hidden_layers': 1, 'num_hidden_units': 35, 'epoch_count': 9448}. Best is trial 30 with value: 0.2995092797369395.\n",
      "[I 2023-11-12 11:54:30,986] Trial 55 finished with value: 0.2408300269997337 and parameters: {'learning_rate': 0.0009106577592626195, 'hidden_layers': 1, 'num_hidden_units': 37, 'epoch_count': 9418}. Best is trial 30 with value: 0.2995092797369395.\n",
      "[I 2023-11-12 11:54:51,948] Trial 56 finished with value: 0.281109177741003 and parameters: {'learning_rate': 0.0009566581034061298, 'hidden_layers': 1, 'num_hidden_units': 35, 'epoch_count': 9462}. Best is trial 30 with value: 0.2995092797369395.\n",
      "[I 2023-11-12 11:55:11,263] Trial 57 finished with value: 0.2808122136433547 and parameters: {'learning_rate': 0.0009946100206663711, 'hidden_layers': 1, 'num_hidden_units': 35, 'epoch_count': 9341}. Best is trial 30 with value: 0.2995092797369395.\n",
      "[I 2023-11-12 11:55:30,168] Trial 58 finished with value: 0.27621880979280644 and parameters: {'learning_rate': 0.0008669321884159894, 'hidden_layers': 1, 'num_hidden_units': 34, 'epoch_count': 9460}. Best is trial 30 with value: 0.2995092797369395.\n",
      "[I 2023-11-12 11:55:48,636] Trial 59 finished with value: 0.2788784678374285 and parameters: {'learning_rate': 0.0008203767732996597, 'hidden_layers': 1, 'num_hidden_units': 37, 'epoch_count': 9227}. Best is trial 30 with value: 0.2995092797369395.\n",
      "[I 2023-11-12 11:56:07,742] Trial 60 finished with value: 0.27729151683941367 and parameters: {'learning_rate': 0.0009686951991448482, 'hidden_layers': 1, 'num_hidden_units': 39, 'epoch_count': 9582}. Best is trial 30 with value: 0.2995092797369395.\n",
      "[I 2023-11-12 11:56:26,301] Trial 61 finished with value: 0.2367122595232722 and parameters: {'learning_rate': 0.0009886837071709765, 'hidden_layers': 1, 'num_hidden_units': 35, 'epoch_count': 9342}. Best is trial 30 with value: 0.2995092797369395.\n",
      "[I 2023-11-12 11:56:44,454] Trial 62 finished with value: 0.2645465270703494 and parameters: {'learning_rate': 0.0009985785438516674, 'hidden_layers': 1, 'num_hidden_units': 34, 'epoch_count': 9116}. Best is trial 30 with value: 0.2995092797369395.\n",
      "[I 2023-11-12 11:57:03,205] Trial 63 finished with value: 0.29142929740659423 and parameters: {'learning_rate': 0.0008962543403965974, 'hidden_layers': 1, 'num_hidden_units': 32, 'epoch_count': 9497}. Best is trial 30 with value: 0.2995092797369395.\n",
      "[I 2023-11-12 11:57:22,479] Trial 64 finished with value: 0.28206426635437687 and parameters: {'learning_rate': 0.0008953866084901309, 'hidden_layers': 1, 'num_hidden_units': 32, 'epoch_count': 9688}. Best is trial 30 with value: 0.2995092797369395.\n",
      "[I 2023-11-12 11:57:41,672] Trial 65 finished with value: 0.24813830670897927 and parameters: {'learning_rate': 0.0008965843720115489, 'hidden_layers': 1, 'num_hidden_units': 32, 'epoch_count': 9683}. Best is trial 30 with value: 0.2995092797369395.\n"
     ]
    },
    {
     "name": "stderr",
     "output_type": "stream",
     "text": [
      "[I 2023-11-12 11:58:01,880] Trial 66 finished with value: 0.2625827032681384 and parameters: {'learning_rate': 0.0008670678836160764, 'hidden_layers': 1, 'num_hidden_units': 33, 'epoch_count': 9528}. Best is trial 30 with value: 0.2995092797369395.\n",
      "[I 2023-11-12 11:58:21,406] Trial 67 finished with value: 0.2480999235943172 and parameters: {'learning_rate': 0.0008273094138904905, 'hidden_layers': 1, 'num_hidden_units': 30, 'epoch_count': 9581}. Best is trial 30 with value: 0.2995092797369395.\n",
      "[I 2023-11-12 12:00:10,173] Trial 68 finished with value: 0.24931763351853656 and parameters: {'learning_rate': 0.0007732530472742418, 'hidden_layers': 1, 'num_hidden_units': 32, 'epoch_count': 9818}. Best is trial 30 with value: 0.2995092797369395.\n",
      "[I 2023-11-12 12:01:26,835] Trial 69 finished with value: 0.2730332357385169 and parameters: {'learning_rate': 0.0008556783006699623, 'hidden_layers': 1, 'num_hidden_units': 30, 'epoch_count': 9703}. Best is trial 30 with value: 0.2995092797369395.\n",
      "[I 2023-11-12 12:25:56,589] Trial 70 finished with value: 0.2239468436522533 and parameters: {'learning_rate': 0.0009156864737529002, 'hidden_layers': 1, 'num_hidden_units': 36, 'epoch_count': 9600}. Best is trial 30 with value: 0.2995092797369395.\n",
      "[I 2023-11-12 12:28:16,066] Trial 71 finished with value: 0.2743016742236346 and parameters: {'learning_rate': 0.0009650574063661135, 'hidden_layers': 1, 'num_hidden_units': 36, 'epoch_count': 9472}. Best is trial 30 with value: 0.2995092797369395.\n",
      "[I 2023-11-12 12:28:35,350] Trial 72 finished with value: 0.2164863782603127 and parameters: {'learning_rate': 0.0008832728225184375, 'hidden_layers': 1, 'num_hidden_units': 34, 'epoch_count': 9377}. Best is trial 30 with value: 0.2995092797369395.\n",
      "[I 2023-11-12 12:28:53,779] Trial 73 finished with value: 0.2505968462112787 and parameters: {'learning_rate': 0.0009094278666521411, 'hidden_layers': 1, 'num_hidden_units': 32, 'epoch_count': 9510}. Best is trial 30 with value: 0.2995092797369395.\n",
      "[I 2023-11-12 12:29:15,500] Trial 74 finished with value: 0.2902659074458147 and parameters: {'learning_rate': 0.0008207870469745265, 'hidden_layers': 1, 'num_hidden_units': 38, 'epoch_count': 10951}. Best is trial 30 with value: 0.2995092797369395.\n",
      "[I 2023-11-12 12:29:36,983] Trial 75 finished with value: 0.26297865539833615 and parameters: {'learning_rate': 0.0007951580590141325, 'hidden_layers': 1, 'num_hidden_units': 28, 'epoch_count': 10969}. Best is trial 30 with value: 0.2995092797369395.\n",
      "[I 2023-11-12 12:29:58,530] Trial 76 finished with value: 0.2201300806012993 and parameters: {'learning_rate': 0.0008285191132669201, 'hidden_layers': 1, 'num_hidden_units': 40, 'epoch_count': 10625}. Best is trial 30 with value: 0.2995092797369395.\n",
      "[I 2023-11-12 12:30:18,115] Trial 77 finished with value: 0.24010209459710818 and parameters: {'learning_rate': 0.000763709150643516, 'hidden_layers': 1, 'num_hidden_units': 31, 'epoch_count': 9712}. Best is trial 30 with value: 0.2995092797369395.\n",
      "[I 2023-11-12 12:34:23,867] Trial 78 finished with value: 0.271789263683213 and parameters: {'learning_rate': 0.0008505296166304671, 'hidden_layers': 1, 'num_hidden_units': 38, 'epoch_count': 9870}. Best is trial 30 with value: 0.2995092797369395.\n",
      "[I 2023-11-12 12:39:33,249] Trial 79 finished with value: 0.2674270563712723 and parameters: {'learning_rate': 0.0007074568086050837, 'hidden_layers': 1, 'num_hidden_units': 38, 'epoch_count': 10854}. Best is trial 30 with value: 0.2995092797369395.\n",
      "[I 2023-11-12 12:52:48,429] Trial 80 finished with value: 0.2812777491977935 and parameters: {'learning_rate': 0.0008898759023410999, 'hidden_layers': 1, 'num_hidden_units': 33, 'epoch_count': 9973}. Best is trial 30 with value: 0.2995092797369395.\n",
      "[I 2023-11-12 12:54:47,834] Trial 81 finished with value: 0.28020347091257447 and parameters: {'learning_rate': 0.0008173555146730778, 'hidden_layers': 1, 'num_hidden_units': 33, 'epoch_count': 9983}. Best is trial 30 with value: 0.2995092797369395.\n",
      "[I 2023-11-12 12:56:43,562] Trial 82 finished with value: 0.2859863023923279 and parameters: {'learning_rate': 0.0008831642532200074, 'hidden_layers': 1, 'num_hidden_units': 34, 'epoch_count': 10072}. Best is trial 30 with value: 0.2995092797369395.\n",
      "[I 2023-11-12 12:57:48,282] Trial 83 finished with value: 0.24831810129871193 and parameters: {'learning_rate': 0.0008512159718994136, 'hidden_layers': 1, 'num_hidden_units': 32, 'epoch_count': 10409}. Best is trial 30 with value: 0.2995092797369395.\n",
      "[I 2023-11-12 13:03:47,736] Trial 84 finished with value: 0.2421628862679391 and parameters: {'learning_rate': 0.0009259834260104395, 'hidden_layers': 1, 'num_hidden_units': 34, 'epoch_count': 9798}. Best is trial 30 with value: 0.2995092797369395.\n",
      "[I 2023-11-12 13:20:43,537] Trial 85 finished with value: 0.19244754981159945 and parameters: {'learning_rate': 0.0008081365202322979, 'hidden_layers': 1, 'num_hidden_units': 36, 'epoch_count': 9673}. Best is trial 30 with value: 0.2995092797369395.\n",
      "[I 2023-11-12 13:26:38,076] Trial 86 finished with value: 0.23663369759267738 and parameters: {'learning_rate': 0.0008696707353893871, 'hidden_layers': 1, 'num_hidden_units': 30, 'epoch_count': 9268}. Best is trial 30 with value: 0.2995092797369395.\n",
      "[I 2023-11-12 13:40:44,291] Trial 87 finished with value: 0.33321661275262476 and parameters: {'learning_rate': 0.0007545975231958816, 'hidden_layers': 1, 'num_hidden_units': 37, 'epoch_count': 10094}. Best is trial 87 with value: 0.33321661275262476.\n",
      "[I 2023-11-12 13:41:04,070] Trial 88 finished with value: 0.29133322738860973 and parameters: {'learning_rate': 0.0007523434427319258, 'hidden_layers': 1, 'num_hidden_units': 37, 'epoch_count': 10070}. Best is trial 87 with value: 0.33321661275262476.\n",
      "[I 2023-11-12 13:41:24,194] Trial 89 finished with value: 0.26097869310805144 and parameters: {'learning_rate': 0.0007574612958446353, 'hidden_layers': 1, 'num_hidden_units': 39, 'epoch_count': 10167}. Best is trial 87 with value: 0.33321661275262476.\n",
      "[I 2023-11-12 13:41:44,440] Trial 90 finished with value: 0.28069077934492104 and parameters: {'learning_rate': 0.0007894961859213007, 'hidden_layers': 1, 'num_hidden_units': 37, 'epoch_count': 10272}. Best is trial 87 with value: 0.33321661275262476.\n",
      "[I 2023-11-12 13:42:04,128] Trial 91 finished with value: 0.1873331681298783 and parameters: {'learning_rate': 0.000840970628390896, 'hidden_layers': 1, 'num_hidden_units': 37, 'epoch_count': 10093}. Best is trial 87 with value: 0.33321661275262476.\n",
      "[I 2023-11-12 13:42:24,353] Trial 92 finished with value: 0.29796744573335193 and parameters: {'learning_rate': 0.0008989770131825993, 'hidden_layers': 1, 'num_hidden_units': 38, 'epoch_count': 10208}. Best is trial 87 with value: 0.33321661275262476.\n",
      "[I 2023-11-12 13:42:44,084] Trial 93 finished with value: 0.2559352416265244 and parameters: {'learning_rate': 0.000740997232307767, 'hidden_layers': 1, 'num_hidden_units': 40, 'epoch_count': 10190}. Best is trial 87 with value: 0.33321661275262476.\n",
      "[I 2023-11-12 13:43:03,766] Trial 94 finished with value: 0.20897855124735631 and parameters: {'learning_rate': 0.0007799068041840719, 'hidden_layers': 1, 'num_hidden_units': 38, 'epoch_count': 10067}. Best is trial 87 with value: 0.33321661275262476.\n",
      "[I 2023-11-12 13:43:24,759] Trial 95 finished with value: 0.221562152364713 and parameters: {'learning_rate': 0.0008378149460008268, 'hidden_layers': 1, 'num_hidden_units': 35, 'epoch_count': 10149}. Best is trial 87 with value: 0.33321661275262476.\n",
      "[I 2023-11-12 13:43:45,851] Trial 96 finished with value: 0.2462510246734334 and parameters: {'learning_rate': 0.0008773998834568146, 'hidden_layers': 1, 'num_hidden_units': 40, 'epoch_count': 10237}. Best is trial 87 with value: 0.33321661275262476.\n",
      "[I 2023-11-12 13:44:07,043] Trial 97 finished with value: 0.20444395661342474 and parameters: {'learning_rate': 0.0007980102551050543, 'hidden_layers': 1, 'num_hidden_units': 34, 'epoch_count': 10328}. Best is trial 87 with value: 0.33321661275262476.\n",
      "[I 2023-11-12 13:44:27,551] Trial 98 finished with value: 0.2957293285620356 and parameters: {'learning_rate': 0.0009292463689055092, 'hidden_layers': 1, 'num_hidden_units': 36, 'epoch_count': 10053}. Best is trial 87 with value: 0.33321661275262476.\n"
     ]
    },
    {
     "name": "stderr",
     "output_type": "stream",
     "text": [
      "[I 2023-11-12 13:44:47,458] Trial 99 finished with value: 0.26240425545435875 and parameters: {'learning_rate': 0.000935237207202856, 'hidden_layers': 1, 'num_hidden_units': 42, 'epoch_count': 9945}. Best is trial 87 with value: 0.33321661275262476.\n",
      "[I 2023-11-12 13:45:07,087] Trial 100 finished with value: 0.27720779226766545 and parameters: {'learning_rate': 0.000899691539523804, 'hidden_layers': 1, 'num_hidden_units': 36, 'epoch_count': 10007}. Best is trial 87 with value: 0.33321661275262476.\n",
      "[I 2023-11-12 13:45:26,884] Trial 101 finished with value: 0.23759147975795739 and parameters: {'learning_rate': 0.000861705354682434, 'hidden_layers': 1, 'num_hidden_units': 38, 'epoch_count': 10044}. Best is trial 87 with value: 0.33321661275262476.\n",
      "[I 2023-11-12 13:45:48,520] Trial 102 finished with value: 0.29815352527753214 and parameters: {'learning_rate': 0.0009200428540008654, 'hidden_layers': 1, 'num_hidden_units': 36, 'epoch_count': 10141}. Best is trial 87 with value: 0.33321661275262476.\n",
      "[I 2023-11-12 13:46:09,330] Trial 103 finished with value: 0.26849190722482 and parameters: {'learning_rate': 0.0009520093061874925, 'hidden_layers': 1, 'num_hidden_units': 39, 'epoch_count': 10150}. Best is trial 87 with value: 0.33321661275262476.\n",
      "[I 2023-11-12 13:46:29,789] Trial 104 finished with value: 0.24357340961610396 and parameters: {'learning_rate': 0.0009271195571731894, 'hidden_layers': 1, 'num_hidden_units': 37, 'epoch_count': 10134}. Best is trial 87 with value: 0.33321661275262476.\n",
      "[I 2023-11-12 13:47:53,709] Trial 105 finished with value: 0.2795716085279335 and parameters: {'learning_rate': 0.0009088165711141702, 'hidden_layers': 1, 'num_hidden_units': 36, 'epoch_count': 10089}. Best is trial 87 with value: 0.33321661275262476.\n",
      "[I 2023-11-12 14:10:56,266] Trial 106 finished with value: 0.23545504417109664 and parameters: {'learning_rate': 0.0008743975193738914, 'hidden_layers': 1, 'num_hidden_units': 35, 'epoch_count': 9921}. Best is trial 87 with value: 0.33321661275262476.\n",
      "[I 2023-11-12 14:11:17,057] Trial 107 finished with value: 0.2639160114616615 and parameters: {'learning_rate': 0.0009732116852725909, 'hidden_layers': 1, 'num_hidden_units': 37, 'epoch_count': 10237}. Best is trial 87 with value: 0.33321661275262476.\n",
      "[I 2023-11-12 14:28:22,055] Trial 108 finished with value: 0.22916986526085417 and parameters: {'learning_rate': 0.0009449725815219304, 'hidden_layers': 1, 'num_hidden_units': 17, 'epoch_count': 10556}. Best is trial 87 with value: 0.33321661275262476.\n",
      "[I 2023-11-12 14:30:53,272] Trial 109 finished with value: 0.2995077084983276 and parameters: {'learning_rate': 0.0008269265882333754, 'hidden_layers': 1, 'num_hidden_units': 34, 'epoch_count': 10027}. Best is trial 87 with value: 0.33321661275262476.\n",
      "[I 2023-11-12 14:48:10,824] Trial 110 finished with value: 0.253915077696944 and parameters: {'learning_rate': 0.0008353540012233079, 'hidden_layers': 1, 'num_hidden_units': 36, 'epoch_count': 10330}. Best is trial 87 with value: 0.33321661275262476.\n",
      "[I 2023-11-12 14:48:30,551] Trial 111 finished with value: 0.2541864530514843 and parameters: {'learning_rate': 0.000815216285742547, 'hidden_layers': 1, 'num_hidden_units': 34, 'epoch_count': 10002}. Best is trial 87 with value: 0.33321661275262476.\n",
      "[I 2023-11-12 15:06:43,633] Trial 112 finished with value: 0.2647698674158975 and parameters: {'learning_rate': 0.0008827617554295541, 'hidden_layers': 1, 'num_hidden_units': 38, 'epoch_count': 10209}. Best is trial 87 with value: 0.33321661275262476.\n",
      "[I 2023-11-12 15:14:13,122] Trial 113 finished with value: 0.2930683237414605 and parameters: {'learning_rate': 0.000908431565308436, 'hidden_layers': 1, 'num_hidden_units': 33, 'epoch_count': 10034}. Best is trial 87 with value: 0.33321661275262476.\n",
      "[I 2023-11-12 15:42:20,946] Trial 114 finished with value: 0.25270589735376064 and parameters: {'learning_rate': 0.0009156162208266904, 'hidden_layers': 1, 'num_hidden_units': 33, 'epoch_count': 10053}. Best is trial 87 with value: 0.33321661275262476.\n",
      "[I 2023-11-12 15:43:15,165] Trial 115 finished with value: 0.2352144202008177 and parameters: {'learning_rate': 0.0007516414246065942, 'hidden_layers': 1, 'num_hidden_units': 35, 'epoch_count': 10025}. Best is trial 87 with value: 0.33321661275262476.\n",
      "[I 2023-11-12 15:43:35,100] Trial 116 finished with value: 0.18980988910754393 and parameters: {'learning_rate': 0.0007799783779261395, 'hidden_layers': 1, 'num_hidden_units': 34, 'epoch_count': 10118}. Best is trial 87 with value: 0.33321661275262476.\n",
      "[I 2023-11-12 15:51:45,526] Trial 117 finished with value: 0.2819405874293548 and parameters: {'learning_rate': 0.0009317153502560286, 'hidden_layers': 1, 'num_hidden_units': 33, 'epoch_count': 10888}. Best is trial 87 with value: 0.33321661275262476.\n",
      "[I 2023-11-12 15:52:06,223] Trial 118 finished with value: 0.2304062055857574 and parameters: {'learning_rate': 0.0008584988989576637, 'hidden_layers': 1, 'num_hidden_units': 37, 'epoch_count': 10452}. Best is trial 87 with value: 0.33321661275262476.\n",
      "[I 2023-11-12 15:52:27,542] Trial 119 finished with value: 0.23679082145386698 and parameters: {'learning_rate': 0.0008287092590017828, 'hidden_layers': 1, 'num_hidden_units': 32, 'epoch_count': 10716}. Best is trial 87 with value: 0.33321661275262476.\n",
      "[I 2023-11-12 15:53:52,330] Trial 120 finished with value: 0.22895999267483658 and parameters: {'learning_rate': 0.0007198424531535827, 'hidden_layers': 1, 'num_hidden_units': 39, 'epoch_count': 9950}. Best is trial 87 with value: 0.33321661275262476.\n",
      "[I 2023-11-12 15:55:23,824] Trial 121 finished with value: 0.3105867364134645 and parameters: {'learning_rate': 0.0009003963033052798, 'hidden_layers': 1, 'num_hidden_units': 36, 'epoch_count': 9853}. Best is trial 87 with value: 0.33321661275262476.\n",
      "[I 2023-11-12 15:56:06,262] Trial 122 finished with value: 0.19356470046465743 and parameters: {'learning_rate': 0.0009093234933575278, 'hidden_layers': 1, 'num_hidden_units': 36, 'epoch_count': 10077}. Best is trial 87 with value: 0.33321661275262476.\n",
      "[I 2023-11-12 16:11:53,507] Trial 123 finished with value: 0.23530689881626074 and parameters: {'learning_rate': 0.0009674639990583691, 'hidden_layers': 1, 'num_hidden_units': 38, 'epoch_count': 9870}. Best is trial 87 with value: 0.33321661275262476.\n",
      "[I 2023-11-12 16:14:03,178] Trial 124 finished with value: 0.20642147263782518 and parameters: {'learning_rate': 0.0008914627853892554, 'hidden_layers': 1, 'num_hidden_units': 35, 'epoch_count': 10179}. Best is trial 87 with value: 0.33321661275262476.\n",
      "[I 2023-11-12 16:14:23,496] Trial 125 finished with value: 0.16923900873794384 and parameters: {'learning_rate': 0.000847379436763108, 'hidden_layers': 1, 'num_hidden_units': 37, 'epoch_count': 10024}. Best is trial 87 with value: 0.33321661275262476.\n",
      "[I 2023-11-12 16:14:43,370] Trial 126 finished with value: 0.1908599254256081 and parameters: {'learning_rate': 0.0008076083332700326, 'hidden_layers': 1, 'num_hidden_units': 36, 'epoch_count': 10121}. Best is trial 87 with value: 0.33321661275262476.\n",
      "[I 2023-11-12 16:15:02,896] Trial 127 finished with value: 0.29273589454371507 and parameters: {'learning_rate': 0.0008760863505371405, 'hidden_layers': 1, 'num_hidden_units': 35, 'epoch_count': 9956}. Best is trial 87 with value: 0.33321661275262476.\n",
      "[I 2023-11-12 16:15:22,222] Trial 128 finished with value: 0.23527839205858775 and parameters: {'learning_rate': 0.000949757334795903, 'hidden_layers': 1, 'num_hidden_units': 35, 'epoch_count': 9901}. Best is trial 87 with value: 0.33321661275262476.\n",
      "[I 2023-11-12 16:15:40,498] Trial 129 finished with value: 0.2576047948829933 and parameters: {'learning_rate': 0.0008677387948471988, 'hidden_layers': 1, 'num_hidden_units': 33, 'epoch_count': 9408}. Best is trial 87 with value: 0.33321661275262476.\n",
      "[I 2023-11-12 16:16:00,057] Trial 130 finished with value: 0.26420915969410946 and parameters: {'learning_rate': 0.0007890440923437722, 'hidden_layers': 1, 'num_hidden_units': 38, 'epoch_count': 9986}. Best is trial 87 with value: 0.33321661275262476.\n",
      "[I 2023-11-12 16:16:19,564] Trial 131 finished with value: 0.2713863532105911 and parameters: {'learning_rate': 0.0008915208199526688, 'hidden_layers': 1, 'num_hidden_units': 34, 'epoch_count': 9940}. Best is trial 87 with value: 0.33321661275262476.\n"
     ]
    },
    {
     "name": "stderr",
     "output_type": "stream",
     "text": [
      "[I 2023-11-12 16:16:39,341] Trial 132 finished with value: 0.22586824401194314 and parameters: {'learning_rate': 0.0009194254009397327, 'hidden_layers': 1, 'num_hidden_units': 34, 'epoch_count': 10079}. Best is trial 87 with value: 0.33321661275262476.\n",
      "[I 2023-11-12 16:16:59,225] Trial 133 finished with value: 0.22370891323388048 and parameters: {'learning_rate': 0.0008385740598064058, 'hidden_layers': 1, 'num_hidden_units': 32, 'epoch_count': 10223}. Best is trial 87 with value: 0.33321661275262476.\n",
      "[I 2023-11-12 16:17:18,812] Trial 134 finished with value: 0.2692485708477773 and parameters: {'learning_rate': 0.0008778499082464941, 'hidden_layers': 1, 'num_hidden_units': 36, 'epoch_count': 10043}. Best is trial 87 with value: 0.33321661275262476.\n",
      "[I 2023-11-12 16:17:37,555] Trial 135 finished with value: 0.24233482466461226 and parameters: {'learning_rate': 0.0009000662828592914, 'hidden_layers': 1, 'num_hidden_units': 31, 'epoch_count': 9546}. Best is trial 87 with value: 0.33321661275262476.\n",
      "[I 2023-11-12 16:17:56,371] Trial 136 finished with value: 0.28456298467260904 and parameters: {'learning_rate': 0.0009343210282533173, 'hidden_layers': 1, 'num_hidden_units': 33, 'epoch_count': 9595}. Best is trial 87 with value: 0.33321661275262476.\n",
      "[I 2023-11-12 16:18:15,389] Trial 137 finished with value: 0.3116284676131515 and parameters: {'learning_rate': 0.0008176732409654058, 'hidden_layers': 1, 'num_hidden_units': 35, 'epoch_count': 9820}. Best is trial 87 with value: 0.33321661275262476.\n",
      "[I 2023-11-12 16:18:34,583] Trial 138 finished with value: 0.2787339138851341 and parameters: {'learning_rate': 0.0007672718382740084, 'hidden_layers': 1, 'num_hidden_units': 35, 'epoch_count': 9787}. Best is trial 87 with value: 0.33321661275262476.\n",
      "[I 2023-11-12 16:18:53,972] Trial 139 finished with value: 0.27641813263385834 and parameters: {'learning_rate': 0.0008215702040476979, 'hidden_layers': 1, 'num_hidden_units': 37, 'epoch_count': 9904}. Best is trial 87 with value: 0.33321661275262476.\n",
      "[I 2023-11-12 16:19:13,106] Trial 140 finished with value: 0.24597358882710435 and parameters: {'learning_rate': 0.0007988526598388585, 'hidden_layers': 1, 'num_hidden_units': 40, 'epoch_count': 9843}. Best is trial 87 with value: 0.33321661275262476.\n",
      "[I 2023-11-12 16:19:32,512] Trial 141 finished with value: 0.23852165301619974 and parameters: {'learning_rate': 0.0008567546582122161, 'hidden_layers': 1, 'num_hidden_units': 36, 'epoch_count': 9965}. Best is trial 87 with value: 0.33321661275262476.\n",
      "[I 2023-11-12 16:19:52,398] Trial 142 finished with value: 0.21913346639603962 and parameters: {'learning_rate': 0.0008386192965181661, 'hidden_layers': 1, 'num_hidden_units': 34, 'epoch_count': 10104}. Best is trial 87 with value: 0.33321661275262476.\n",
      "[I 2023-11-12 16:20:11,839] Trial 143 finished with value: 0.31961642025337145 and parameters: {'learning_rate': 0.0008751117933298581, 'hidden_layers': 1, 'num_hidden_units': 35, 'epoch_count': 9743}. Best is trial 87 with value: 0.33321661275262476.\n",
      "[I 2023-11-12 16:20:31,173] Trial 144 finished with value: 0.2148372511057985 and parameters: {'learning_rate': 0.0008150492452228002, 'hidden_layers': 1, 'num_hidden_units': 35, 'epoch_count': 9718}. Best is trial 87 with value: 0.33321661275262476.\n",
      "[I 2023-11-12 16:20:49,753] Trial 145 finished with value: 0.247546623140271 and parameters: {'learning_rate': 0.0008640340049602417, 'hidden_layers': 1, 'num_hidden_units': 37, 'epoch_count': 9491}. Best is trial 87 with value: 0.33321661275262476.\n",
      "[I 2023-11-12 16:21:09,155] Trial 146 finished with value: 0.22443998811372975 and parameters: {'learning_rate': 0.0009063754130067389, 'hidden_layers': 1, 'num_hidden_units': 39, 'epoch_count': 9840}. Best is trial 87 with value: 0.33321661275262476.\n",
      "[I 2023-11-12 16:21:28,199] Trial 147 finished with value: 0.279133906343191 and parameters: {'learning_rate': 0.0007521169601964708, 'hidden_layers': 1, 'num_hidden_units': 33, 'epoch_count': 9777}. Best is trial 87 with value: 0.33321661275262476.\n",
      "[I 2023-11-12 16:21:47,232] Trial 148 finished with value: 0.25179053863100187 and parameters: {'learning_rate': 0.0007337929631315906, 'hidden_layers': 1, 'num_hidden_units': 35, 'epoch_count': 9625}. Best is trial 87 with value: 0.33321661275262476.\n",
      "[I 2023-11-12 16:22:06,434] Trial 149 finished with value: 0.22974740768205532 and parameters: {'learning_rate': 0.0007766387033684543, 'hidden_layers': 1, 'num_hidden_units': 16, 'epoch_count': 9818}. Best is trial 87 with value: 0.33321661275262476.\n",
      "[I 2023-11-12 16:22:25,905] Trial 150 finished with value: 0.3103851689458242 and parameters: {'learning_rate': 0.0008462362314603052, 'hidden_layers': 1, 'num_hidden_units': 36, 'epoch_count': 9872}. Best is trial 87 with value: 0.33321661275262476.\n",
      "[I 2023-11-12 16:22:45,026] Trial 151 finished with value: 0.2559769916810691 and parameters: {'learning_rate': 0.0008284782742388235, 'hidden_layers': 1, 'num_hidden_units': 36, 'epoch_count': 9736}. Best is trial 87 with value: 0.33321661275262476.\n",
      "[I 2023-11-12 16:23:04,534] Trial 152 finished with value: 0.22429588308675302 and parameters: {'learning_rate': 0.0008565271412529578, 'hidden_layers': 1, 'num_hidden_units': 38, 'epoch_count': 9906}. Best is trial 87 with value: 0.33321661275262476.\n",
      "[I 2023-11-12 16:23:23,825] Trial 153 finished with value: 0.2884024184521061 and parameters: {'learning_rate': 0.0008812672096121239, 'hidden_layers': 1, 'num_hidden_units': 37, 'epoch_count': 9874}. Best is trial 87 with value: 0.33321661275262476.\n",
      "[I 2023-11-12 16:23:43,150] Trial 154 finished with value: 0.29532192883623687 and parameters: {'learning_rate': 0.0008009027634575145, 'hidden_layers': 1, 'num_hidden_units': 36, 'epoch_count': 10006}. Best is trial 87 with value: 0.33321661275262476.\n",
      "[I 2023-11-12 16:24:02,902] Trial 155 finished with value: 0.19826315283954388 and parameters: {'learning_rate': 0.0007995621987429062, 'hidden_layers': 1, 'num_hidden_units': 36, 'epoch_count': 10001}. Best is trial 87 with value: 0.33321661275262476.\n",
      "[I 2023-11-12 16:24:22,466] Trial 156 finished with value: 0.23156937108387804 and parameters: {'learning_rate': 0.0009131430912083208, 'hidden_layers': 1, 'num_hidden_units': 35, 'epoch_count': 9942}. Best is trial 87 with value: 0.33321661275262476.\n",
      "[I 2023-11-12 16:24:42,725] Trial 157 finished with value: 0.19354988592917385 and parameters: {'learning_rate': 0.0008462229849042378, 'hidden_layers': 1, 'num_hidden_units': 34, 'epoch_count': 10159}. Best is trial 87 with value: 0.33321661275262476.\n",
      "[I 2023-11-12 16:25:02,247] Trial 158 finished with value: 0.26363184173556714 and parameters: {'learning_rate': 0.0009395785565780453, 'hidden_layers': 1, 'num_hidden_units': 36, 'epoch_count': 10036}. Best is trial 87 with value: 0.33321661275262476.\n",
      "[I 2023-11-12 16:25:22,363] Trial 159 finished with value: 0.2763108394829317 and parameters: {'learning_rate': 0.0008707787883303275, 'hidden_layers': 1, 'num_hidden_units': 31, 'epoch_count': 10285}. Best is trial 87 with value: 0.33321661275262476.\n",
      "[I 2023-11-12 16:25:41,997] Trial 160 finished with value: 0.20152998237633438 and parameters: {'learning_rate': 0.0005938652204497343, 'hidden_layers': 1, 'num_hidden_units': 35, 'epoch_count': 9974}. Best is trial 87 with value: 0.33321661275262476.\n",
      "[I 2023-11-12 16:26:01,060] Trial 161 finished with value: 0.27865288286529205 and parameters: {'learning_rate': 0.0008249002606417681, 'hidden_layers': 1, 'num_hidden_units': 37, 'epoch_count': 9662}. Best is trial 87 with value: 0.33321661275262476.\n",
      "[I 2023-11-12 16:26:20,643] Trial 162 finished with value: 0.251057443587223 and parameters: {'learning_rate': 0.0007882641123883025, 'hidden_layers': 1, 'num_hidden_units': 36, 'epoch_count': 10003}. Best is trial 87 with value: 0.33321661275262476.\n",
      "[I 2023-11-12 16:26:40,052] Trial 163 finished with value: 0.21847219940309026 and parameters: {'learning_rate': 0.0008143176502675988, 'hidden_layers': 1, 'num_hidden_units': 37, 'epoch_count': 9873}. Best is trial 87 with value: 0.33321661275262476.\n",
      "[I 2023-11-12 16:26:59,637] Trial 164 finished with value: 0.22880129757503515 and parameters: {'learning_rate': 0.0007024844933555033, 'hidden_layers': 1, 'num_hidden_units': 32, 'epoch_count': 10127}. Best is trial 87 with value: 0.33321661275262476.\n"
     ]
    },
    {
     "name": "stderr",
     "output_type": "stream",
     "text": [
      "[I 2023-11-12 16:27:18,816] Trial 165 finished with value: 0.3302144246906094 and parameters: {'learning_rate': 0.0008984053406016353, 'hidden_layers': 1, 'num_hidden_units': 38, 'epoch_count': 9764}. Best is trial 87 with value: 0.33321661275262476.\n",
      "[I 2023-11-12 16:27:38,026] Trial 166 finished with value: 0.2504873084337636 and parameters: {'learning_rate': 0.0008993176315929023, 'hidden_layers': 1, 'num_hidden_units': 38, 'epoch_count': 9807}. Best is trial 87 with value: 0.33321661275262476.\n",
      "[I 2023-11-12 16:27:57,199] Trial 167 finished with value: 0.22537689525173743 and parameters: {'learning_rate': 0.0009239140304739327, 'hidden_layers': 1, 'num_hidden_units': 34, 'epoch_count': 9745}. Best is trial 87 with value: 0.33321661275262476.\n",
      "[I 2023-11-12 16:28:16,040] Trial 168 finished with value: 0.2891034153356706 and parameters: {'learning_rate': 0.000976193713554297, 'hidden_layers': 1, 'num_hidden_units': 33, 'epoch_count': 9621}. Best is trial 87 with value: 0.33321661275262476.\n",
      "[I 2023-11-12 16:28:34,831] Trial 169 finished with value: 0.26522642446398265 and parameters: {'learning_rate': 0.0009584837619003743, 'hidden_layers': 1, 'num_hidden_units': 35, 'epoch_count': 9542}. Best is trial 87 with value: 0.33321661275262476.\n",
      "[I 2023-11-12 16:28:54,362] Trial 170 finished with value: 0.2613355887356107 and parameters: {'learning_rate': 0.000891716391283798, 'hidden_layers': 1, 'num_hidden_units': 36, 'epoch_count': 9921}. Best is trial 87 with value: 0.33321661275262476.\n",
      "[I 2023-11-12 16:29:14,022] Trial 171 finished with value: 0.2570979581993274 and parameters: {'learning_rate': 0.0008485699521071319, 'hidden_layers': 1, 'num_hidden_units': 39, 'epoch_count': 10043}. Best is trial 87 with value: 0.33321661275262476.\n",
      "[I 2023-11-12 16:29:33,333] Trial 172 finished with value: 0.27749173753110096 and parameters: {'learning_rate': 0.0008740377330469715, 'hidden_layers': 1, 'num_hidden_units': 38, 'epoch_count': 9781}. Best is trial 87 with value: 0.33321661275262476.\n",
      "[I 2023-11-12 16:29:52,771] Trial 173 finished with value: 0.25903978466097194 and parameters: {'learning_rate': 0.0007634845802739307, 'hidden_layers': 1, 'num_hidden_units': 37, 'epoch_count': 9840}. Best is trial 87 with value: 0.33321661275262476.\n",
      "[I 2023-11-12 16:30:14,017] Trial 174 finished with value: 0.2587569617108306 and parameters: {'learning_rate': 0.0008331675094294371, 'hidden_layers': 1, 'num_hidden_units': 38, 'epoch_count': 10730}. Best is trial 87 with value: 0.33321661275262476.\n",
      "[I 2023-11-12 16:30:33,937] Trial 175 finished with value: 0.2522910903602201 and parameters: {'learning_rate': 0.0007966558473765793, 'hidden_layers': 1, 'num_hidden_units': 37, 'epoch_count': 10090}. Best is trial 87 with value: 0.33321661275262476.\n",
      "[I 2023-11-12 16:30:53,659] Trial 176 finished with value: 0.30316218504693865 and parameters: {'learning_rate': 0.0005344196332126239, 'hidden_layers': 1, 'num_hidden_units': 39, 'epoch_count': 9948}. Best is trial 87 with value: 0.33321661275262476.\n",
      "[I 2023-11-12 16:31:13,462] Trial 177 finished with value: 0.23231503603655207 and parameters: {'learning_rate': 0.0005377246144655096, 'hidden_layers': 1, 'num_hidden_units': 34, 'epoch_count': 9947}. Best is trial 87 with value: 0.33321661275262476.\n",
      "[I 2023-11-12 16:31:33,764] Trial 178 finished with value: 0.24442636771970458 and parameters: {'learning_rate': 0.0004850087943836784, 'hidden_layers': 1, 'num_hidden_units': 41, 'epoch_count': 10188}. Best is trial 87 with value: 0.33321661275262476.\n",
      "[I 2023-11-12 16:31:53,423] Trial 179 finished with value: 0.26134860756982353 and parameters: {'learning_rate': 0.000895871066088184, 'hidden_layers': 1, 'num_hidden_units': 40, 'epoch_count': 9990}. Best is trial 87 with value: 0.33321661275262476.\n",
      "[I 2023-11-12 16:32:13,028] Trial 180 finished with value: 0.2877548436813462 and parameters: {'learning_rate': 0.0009267084258624732, 'hidden_layers': 1, 'num_hidden_units': 33, 'epoch_count': 9881}. Best is trial 87 with value: 0.33321661275262476.\n",
      "[I 2023-11-12 16:32:33,004] Trial 181 finished with value: 0.30967047984007035 and parameters: {'learning_rate': 0.0008105025804476087, 'hidden_layers': 1, 'num_hidden_units': 39, 'epoch_count': 10050}. Best is trial 87 with value: 0.33321661275262476.\n",
      "[I 2023-11-12 16:32:52,869] Trial 182 finished with value: 0.25494536130103 and parameters: {'learning_rate': 0.0008570143341827946, 'hidden_layers': 1, 'num_hidden_units': 40, 'epoch_count': 10074}. Best is trial 87 with value: 0.33321661275262476.\n",
      "[I 2023-11-12 16:33:13,132] Trial 183 finished with value: 0.23134445949971807 and parameters: {'learning_rate': 0.0008049235257802312, 'hidden_layers': 1, 'num_hidden_units': 39, 'epoch_count': 10129}. Best is trial 87 with value: 0.33321661275262476.\n",
      "[I 2023-11-12 16:33:32,948] Trial 184 finished with value: 0.23824331931923534 and parameters: {'learning_rate': 0.0007794802441039847, 'hidden_layers': 1, 'num_hidden_units': 35, 'epoch_count': 10019}. Best is trial 87 with value: 0.33321661275262476.\n",
      "[I 2023-11-12 16:33:52,767] Trial 185 finished with value: 0.2045362107662089 and parameters: {'learning_rate': 0.0008819886274464596, 'hidden_layers': 1, 'num_hidden_units': 36, 'epoch_count': 10061}. Best is trial 87 with value: 0.33321661275262476.\n",
      "[I 2023-11-12 16:34:12,365] Trial 186 finished with value: 0.18911607502906247 and parameters: {'learning_rate': 0.0009051416571262682, 'hidden_layers': 1, 'num_hidden_units': 39, 'epoch_count': 9947}. Best is trial 87 with value: 0.33321661275262476.\n",
      "[I 2023-11-12 16:34:32,178] Trial 187 finished with value: 0.11272514727058942 and parameters: {'learning_rate': 0.0008413195734634852, 'hidden_layers': 1, 'num_hidden_units': 38, 'epoch_count': 9982}. Best is trial 87 with value: 0.33321661275262476.\n",
      "[I 2023-11-12 16:34:52,189] Trial 188 finished with value: 0.30445172302198753 and parameters: {'learning_rate': 0.0009468720649887703, 'hidden_layers': 1, 'num_hidden_units': 37, 'epoch_count': 10107}. Best is trial 87 with value: 0.33321661275262476.\n",
      "[I 2023-11-12 16:35:12,150] Trial 189 finished with value: 0.26014391647981705 and parameters: {'learning_rate': 0.0009447271141717892, 'hidden_layers': 1, 'num_hidden_units': 36, 'epoch_count': 10173}. Best is trial 87 with value: 0.33321661275262476.\n",
      "[I 2023-11-12 16:35:32,150] Trial 190 finished with value: 0.26039396788176733 and parameters: {'learning_rate': 0.0009580682069731128, 'hidden_layers': 1, 'num_hidden_units': 32, 'epoch_count': 10246}. Best is trial 87 with value: 0.33321661275262476.\n",
      "[I 2023-11-12 16:35:52,178] Trial 191 finished with value: 0.2586128566838539 and parameters: {'learning_rate': 0.0009172493015749978, 'hidden_layers': 1, 'num_hidden_units': 37, 'epoch_count': 10090}. Best is trial 87 with value: 0.33321661275262476.\n",
      "[I 2023-11-12 16:36:12,457] Trial 192 finished with value: 0.1933685201008293 and parameters: {'learning_rate': 0.0005122433105380202, 'hidden_layers': 1, 'num_hidden_units': 37, 'epoch_count': 10144}. Best is trial 87 with value: 0.33321661275262476.\n",
      "[I 2023-11-12 16:36:32,413] Trial 193 finished with value: 0.24148343779962356 and parameters: {'learning_rate': 0.0009375352663015766, 'hidden_layers': 1, 'num_hidden_units': 35, 'epoch_count': 10034}. Best is trial 87 with value: 0.33321661275262476.\n",
      "[I 2023-11-12 16:36:52,320] Trial 194 finished with value: 0.2767462970410858 and parameters: {'learning_rate': 0.0008630161541868408, 'hidden_layers': 1, 'num_hidden_units': 36, 'epoch_count': 10097}. Best is trial 87 with value: 0.33321661275262476.\n",
      "[I 2023-11-12 16:37:11,952] Trial 195 finished with value: 0.27086133505155907 and parameters: {'learning_rate': 0.0006885552131440904, 'hidden_layers': 1, 'num_hidden_units': 39, 'epoch_count': 9912}. Best is trial 87 with value: 0.33321661275262476.\n",
      "[I 2023-11-12 16:37:30,810] Trial 196 finished with value: 0.21803247705441825 and parameters: {'learning_rate': 0.0007395707530405614, 'hidden_layers': 1, 'num_hidden_units': 38, 'epoch_count': 9504}. Best is trial 87 with value: 0.33321661275262476.\n",
      "[I 2023-11-12 16:37:50,269] Trial 197 finished with value: 0.2597672681382797 and parameters: {'learning_rate': 0.000815293838384957, 'hidden_layers': 1, 'num_hidden_units': 35, 'epoch_count': 9823}. Best is trial 87 with value: 0.33321661275262476.\n"
     ]
    },
    {
     "name": "stderr",
     "output_type": "stream",
     "text": [
      "[I 2023-11-12 16:38:09,343] Trial 198 finished with value: 0.2332232119542279 and parameters: {'learning_rate': 0.0009123583590200399, 'hidden_layers': 1, 'num_hidden_units': 34, 'epoch_count': 9569}. Best is trial 87 with value: 0.33321661275262476.\n",
      "[I 2023-11-12 16:38:29,175] Trial 199 finished with value: 0.2544185474407272 and parameters: {'learning_rate': 0.0007604353128727908, 'hidden_layers': 1, 'num_hidden_units': 36, 'epoch_count': 10022}. Best is trial 87 with value: 0.33321661275262476.\n"
     ]
    }
   ],
   "source": [
    "#Lets set our loss function and optimizer\n",
    "import optuna\n",
    "\n",
    "def objective(trial):\n",
    "    \n",
    "    #define the search space\n",
    "    learning_rate = trial.suggest_float(\"learning_rate\", 1e-4, 1e-3)\n",
    "    hidden_layers = trial.suggest_int(\"hidden_layers\", 1, 1)\n",
    "    num_hidden_units = trial.suggest_int(\"num_hidden_units\", 16, 46)\n",
    "    epoch_count = trial.suggest_int(\"epoch_count\", 9000, 11000)\n",
    "    #weight_decay = trial.suggest_float(\"weight_decay\", 1e-4, 1e-3)\n",
    "    \n",
    "    #create the model\n",
    "    model = NeuralNetworkWithHyper(hidden_layers, \n",
    "                                   num_hidden_units \n",
    "                                   ).to('mps')\n",
    "    optimizer = torch.optim.SGD(model.parameters(), learning_rate, #weight_decay\n",
    "                               )\n",
    "    loss_fn = torch.nn.L1Loss()\n",
    "    \n",
    "    #testing loop\n",
    "    for epoch in range(epoch_count):\n",
    "        #convert into train\n",
    "        model.train()\n",
    "\n",
    "        #fit data\n",
    "        train_pred = model(X_train)\n",
    "\n",
    "        #calculate loss\n",
    "        train_loss = loss_fn(train_pred, y_train)\n",
    "\n",
    "\n",
    "        #zero gradients\n",
    "        optimizer.zero_grad()\n",
    "\n",
    "        #back propagation\n",
    "        train_loss.backward()\n",
    "\n",
    "        #gradient descent\n",
    "        optimizer.step()\n",
    "\n",
    "        #testing\n",
    "        model.eval()\n",
    "        with torch.inference_mode():\n",
    "            test_pred = model(X_test)\n",
    "            test_loss = loss_fn(test_pred, y_test)\n",
    "            spear_pred = test_pred.to('cpu')\n",
    "            \n",
    "    #spearman correlation coefficient       \n",
    "    validation_metric = stats.spearmanr(y_test.to('cpu'), spear_pred).statistic\n",
    "    \n",
    "    #save model weights\n",
    "    trial.set_user_attr('model_weights', model.state_dict())\n",
    "    \n",
    "    return validation_metric\n",
    "\n",
    "#Create an Optuna Study\n",
    "study = optuna.create_study(direction='maximize')\n",
    "\n",
    "#Perform hyperparameter optimization\n",
    "study.optimize(objective, n_trials=200)\n",
    "\n",
    "#Print best spearman correlation coefficient\n",
    "best_validation_metric = study.best_value"
   ]
  },
  {
   "cell_type": "markdown",
   "id": "59149ff9",
   "metadata": {},
   "source": [
    "### Trial #1"
   ]
  },
  {
   "cell_type": "code",
   "execution_count": 15,
   "id": "0b985a75",
   "metadata": {},
   "outputs": [
    {
     "name": "stdout",
     "output_type": "stream",
     "text": [
      "Best Score: 0.31736281515859505 \n",
      "Hyperparameters: \n",
      "learning_rate: 0.000497262490910934\n",
      "hidden_layers: 1\n",
      "num_hidden_units: 40\n",
      "epoch_count: 11600\n",
      "weight_decay: 0.0007379496783911263\n"
     ]
    }
   ],
   "source": [
    "best_trial = study.best_trial\n",
    "best_params = best_trial.params\n",
    "best_score = best_trial.value\n",
    "print(f'Best Score: {best_score} \\nHyperparameters: ')\n",
    "for key,value in best_params.items():\n",
    "    print(f'{key}: {value}')\n",
    "trials.update({\"lasso_1\": best_score})"
   ]
  },
  {
   "cell_type": "markdown",
   "id": "2ad3f41c",
   "metadata": {},
   "source": [
    "### Trial #2"
   ]
  },
  {
   "cell_type": "code",
   "execution_count": 17,
   "id": "d5298227",
   "metadata": {},
   "outputs": [
    {
     "name": "stdout",
     "output_type": "stream",
     "text": [
      "Best Score: 0.31565824572734685 \n",
      "Hyperparameters: \n",
      "learning_rate: 0.00024505307860092456\n",
      "hidden_layers: 1\n",
      "num_hidden_units: 33\n",
      "epoch_count: 9766\n",
      "weight_decay: 0.0006367294579189647\n"
     ]
    }
   ],
   "source": [
    "best_trial = study.best_trial\n",
    "best_params = best_trial.params\n",
    "best_score = best_trial.value\n",
    "print(f'Best Score: {best_score} \\nHyperparameters: ')\n",
    "for key,value in best_params.items():\n",
    "    print(f'{key}: {value}')"
   ]
  },
  {
   "cell_type": "markdown",
   "id": "f0787a2a",
   "metadata": {},
   "source": [
    "### Trial #3"
   ]
  },
  {
   "cell_type": "code",
   "execution_count": 24,
   "id": "d8440064",
   "metadata": {},
   "outputs": [
    {
     "name": "stdout",
     "output_type": "stream",
     "text": [
      "Best Score: 0.33321661275262476 \n",
      "Hyperparameters: \n",
      "learning_rate: 0.0007545975231958816\n",
      "hidden_layers: 1\n",
      "num_hidden_units: 37\n",
      "epoch_count: 10094\n"
     ]
    }
   ],
   "source": [
    "best_trial = study.best_trial\n",
    "best_params = best_trial.params\n",
    "best_score = best_trial.value\n",
    "print(f'Best Score: {best_score} \\nHyperparameters: ')\n",
    "for key,value in best_params.items():\n",
    "    print(f'{key}: {value}')"
   ]
  }
 ],
 "metadata": {
  "kernelspec": {
   "display_name": "Python 3 (ipykernel)",
   "language": "python",
   "name": "python3"
  },
  "language_info": {
   "codemirror_mode": {
    "name": "ipython",
    "version": 3
   },
   "file_extension": ".py",
   "mimetype": "text/x-python",
   "name": "python",
   "nbconvert_exporter": "python",
   "pygments_lexer": "ipython3",
   "version": "3.10.12"
  }
 },
 "nbformat": 4,
 "nbformat_minor": 5
}
