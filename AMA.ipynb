{
 "cells": [
  {
   "cell_type": "code",
   "execution_count": 2,
   "id": "a8c48f42-0786-4e12-b27e-e506c3fc36c6",
   "metadata": {},
   "outputs": [],
   "source": [
    "# Lets Import all our packages nesscary for data importing\n",
    "import datetime\n",
    "import os\n",
    "import shutil\n",
    "from decimal import Decimal\n",
    "\n",
    "import fsspec\n",
    "import pandas as pd\n",
    "from nautilus_trader.core.datetime import dt_to_unix_nanos\n",
    "from nautilus_trader.model.data import QuoteTick\n",
    "from nautilus_trader.model.objects import Price, Quantity\n",
    "\n",
    "from nautilus_trader.backtest.node import BacktestNode, BacktestVenueConfig, BacktestDataConfig, BacktestRunConfig, BacktestEngineConfig\n",
    "from nautilus_trader.config import ImportableStrategyConfig\n",
    "from nautilus_trader.config import LoggingConfig\n",
    "from nautilus_trader.persistence.catalog import ParquetDataCatalog\n",
    "from nautilus_trader.test_kit.providers import TestInstrumentProvider\n"
   ]
  },
  {
   "cell_type": "code",
   "execution_count": 6,
   "id": "c8cafaa6-5e2c-48c7-a56c-c1804377ed47",
   "metadata": {},
   "outputs": [
    {
     "data": {
      "text/plain": [
       "[CurrencyPair(id=EUR/USD.SIM, raw_symbol=EUR/USD, asset_class=FX, asset_type=SPOT, quote_currency=USD, is_inverse=False, price_precision=5, price_increment=0.00001, size_precision=0, size_increment=1, multiplier=1, lot_size=1000, margin_init=0.03, margin_maint=0.03, maker_fee=0.00002, taker_fee=0.00002, info=None)]"
      ]
     },
     "execution_count": 6,
     "metadata": {},
     "output_type": "execute_result"
    }
   ],
   "source": [
    "from nautilus_trader.persistence.catalog import ParquetDataCatalog\n",
    "catalog = ParquetDataCatalog.from_env()\n",
    "catalog.instruments()"
   ]
  },
  {
   "cell_type": "markdown",
   "id": "ac793672-082d-46f5-8eee-d96b40c5f841",
   "metadata": {},
   "source": [
    "### Writing a AMA Trading Strategy"
   ]
  },
  {
   "cell_type": "code",
   "execution_count": 33,
   "id": "934ff22a-8876-405c-8fab-83ec4f5b2604",
   "metadata": {},
   "outputs": [],
   "source": [
    "from typing import Optional\n",
    "from nautilus_trader.core.message import Event\n",
    "from nautilus_trader.indicators.average.hma import HullMovingAverage\n",
    "from nautilus_trader.model.data import QuoteTick\n",
    "from nautilus_trader.model.enums import PriceType\n",
    "from nautilus_trader.model.enums import PositionSide\n",
    "from nautilus_trader.model.enums import OrderSide\n",
    "from nautilus_trader.model.events import PositionOpened\n",
    "from nautilus_trader.model.identifiers import InstrumentId\n",
    "from nautilus_trader.model.objects import Quantity\n",
    "from nautilus_trader.model.position import Position\n",
    "from nautilus_trader.trading.strategy import Strategy, StrategyConfig"
   ]
  },
  {
   "cell_type": "code",
   "execution_count": 37,
   "id": "81a4db52-c577-4ae1-a9d5-8fa2898401be",
   "metadata": {},
   "outputs": [],
   "source": [
    "class HMAConfig(StrategyConfig):\n",
    "    instrument_id = str\n",
    "    period: int = 20\n",
    "    price_type: PriceType = PriceType.MID\n",
    "    trade_size: int = 1_000_000\n",
    "    entry_threshold: float = 0.00010\n",
    "\n",
    "class HMAStrategy(Strategy):\n",
    "    def __init__(self, config: HMAConfig):\n",
    "        super().__init__(config=config)\n",
    "        # Our \"trading signal\"\n",
    "        self.hma = HullMovingAverage(period = config.period,\n",
    "        price_type= config.price_type)\n",
    "        self.entry_threshold = config.entry_threshold\n",
    "        self.instrument_id = InstrumentId.from_str(config.instrument_id)\n",
    "        self.entry_threshold = config.entry_threshold\n",
    "        self.trade_size = config.trade_size\n",
    "\n",
    "    # Convenience\n",
    "        self.position: Optional[Position] = None\n",
    "    # On start\n",
    "    def on_start(self):\n",
    "        # subscribe to data  \n",
    "        self.subscribe_quote_ticks(instrument_id=self.instrument_id)\n",
    "\n",
    "    # On end\n",
    "    def on_stop(self):\n",
    "        # Close all positions\n",
    "        self.close_all_positions(self.instrument_id)\n",
    "        # stop subscribing to data\n",
    "        self.unsubscribe_quote_ticks(instrument_id=self.instrument_id)\n",
    "\n",
    "    def on_quote_tick(self, tick:QuoteTick):\n",
    "        # Updates indicator with quote tick \n",
    "        self.hma.handle_quote_tick(tick)\n",
    "        if not self.hma.initialized:\n",
    "            return # wait for indicator to start\n",
    "\n",
    "        self.check_for_entry()\n",
    "        self.check_for_exit()\n",
    "\n",
    "    def on_event(self, event: Event):\n",
    "        if isinstance(event, PositionOpened):\n",
    "            self.position = self.cache.position(event.position_id)\n",
    "\n",
    "    def check_for_entry(self):\n",
    "        if self.macd.value > self.entry_threshold:\n",
    "            if selfmposition and self.position.side == PositionSide.LONG:\n",
    "                return # already LONG\n",
    "\n",
    "            order = self.order_factory.market(\n",
    "                instrument_id = self.instrument_id,\n",
    "                order_side = OrderSide.BUY,\n",
    "                quantity = self.trade_size,\n",
    "            )\n",
    "            self.submit_order(order)\n",
    "    \n",
    "    \n",
    "\n",
    "\n"
   ]
  },
  {
   "cell_type": "code",
   "execution_count": null,
   "id": "295a2faa-a558-48a6-9fa5-74e88108fa7a",
   "metadata": {},
   "outputs": [],
   "source": []
  }
 ],
 "metadata": {
  "kernelspec": {
   "display_name": "Python 3 (ipykernel)",
   "language": "python",
   "name": "python3"
  },
  "language_info": {
   "codemirror_mode": {
    "name": "ipython",
    "version": 3
   },
   "file_extension": ".py",
   "mimetype": "text/x-python",
   "name": "python",
   "nbconvert_exporter": "python",
   "pygments_lexer": "ipython3",
   "version": "3.11.6"
  }
 },
 "nbformat": 4,
 "nbformat_minor": 5
}
